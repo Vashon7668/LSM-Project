{
 "cells": [
  {
   "cell_type": "code",
   "execution_count": 45,
   "id": "b338c276-f608-4b6c-8b80-6e1827479d41",
   "metadata": {},
   "outputs": [
    {
     "name": "stdout",
     "output_type": "stream",
     "text": [
      "       Disease Fever Cough Fatigue Difficulty Breathing  Age  Gender  \\\n",
      "0    Influenza   Yes    No     Yes                  Yes   19  Female   \n",
      "1  Common Cold    No   Yes     Yes                   No   25  Female   \n",
      "2       Eczema    No   Yes     Yes                   No   25  Female   \n",
      "3       Asthma   Yes   Yes      No                  Yes   25    Male   \n",
      "4       Asthma   Yes   Yes      No                  Yes   25    Male   \n",
      "\n",
      "  Blood Pressure Cholesterol Level Outcome Variable  \n",
      "0            Low            Normal         Positive  \n",
      "1         Normal            Normal         Negative  \n",
      "2         Normal            Normal         Negative  \n",
      "3         Normal            Normal         Positive  \n",
      "4         Normal            Normal         Positive  \n"
     ]
    }
   ],
   "source": [
    "import pandas as pd\n",
    "\n",
    "# Load the dataset\n",
    "file_path = r\"D:\\Lean Startup Project\\Dataset\\Disease_symptom_and_patient_profile_dataset.csv\"\n",
    "df = pd.read_csv(file_path)\n",
    "\n",
    "# Display first few rows\n",
    "print(df.head())"
   ]
  },
  {
   "cell_type": "code",
   "execution_count": 47,
   "id": "1d9e6873-d95c-44c0-8ea1-ea83531bc380",
   "metadata": {},
   "outputs": [
    {
     "name": "stdout",
     "output_type": "stream",
     "text": [
      "   Disease  Fever  Cough  Fatigue  Difficulty Breathing  Age  Gender  \\\n",
      "0       56      1      0        1                     1   19       0   \n",
      "1       24      0      1        1                     0   25       0   \n",
      "2       37      0      1        1                     0   25       0   \n",
      "3        6      1      1        0                     1   25       1   \n",
      "4        6      1      1        0                     1   25       1   \n",
      "\n",
      "   Blood Pressure  Cholesterol Level  Outcome Variable  \n",
      "0             NaN                0.0                 1  \n",
      "1             0.0                0.0                 0  \n",
      "2             0.0                0.0                 0  \n",
      "3             0.0                0.0                 1  \n",
      "4             0.0                0.0                 1  \n"
     ]
    }
   ],
   "source": [
    "from sklearn.preprocessing import LabelEncoder\n",
    "\n",
    "# Convert Yes/No to 1/0\n",
    "yes_no_columns = ['Fever', 'Cough', 'Fatigue', 'Difficulty Breathing']\n",
    "for col in yes_no_columns:\n",
    "    df[col] = df[col].map({'Yes': 1, 'No': 0})\n",
    "\n",
    "# Convert Male/Female to 1/0\n",
    "df['Gender'] = df['Gender'].map({'Male': 1, 'Female': 0})\n",
    "\n",
    "# Convert Normal/High to 0/1\n",
    "df['Blood Pressure'] = df['Blood Pressure'].map({'Normal': 0, 'High': 1})\n",
    "df['Cholesterol Level'] = df['Cholesterol Level'].map({'Normal': 0, 'High': 1})\n",
    "\n",
    "# Convert Outcome Variable (Positive/Negative) to 1/0\n",
    "df['Outcome Variable'] = df['Outcome Variable'].map({'Positive': 1, 'Negative': 0})\n",
    "\n",
    "# Encode Disease names\n",
    "le = LabelEncoder()\n",
    "df['Disease'] = le.fit_transform(df['Disease'])\n",
    "\n",
    "# Display processed dataset\n",
    "print(df.head())\n"
   ]
  },
  {
   "cell_type": "code",
   "execution_count": null,
   "id": "e77fdd36-8c3b-455b-8990-524c36a48e37",
   "metadata": {},
   "outputs": [],
   "source": [
    "#Training the Model"
   ]
  },
  {
   "cell_type": "code",
   "execution_count": 49,
   "id": "a7b84fc1-f5d1-4768-855c-e4b1924a863e",
   "metadata": {},
   "outputs": [],
   "source": [
    "from sklearn.model_selection import train_test_split\n",
    "\n",
    "# Features (excluding the Outcome Variable)\n",
    "X = df.drop(columns=['Outcome Variable'])\n",
    "y = df['Outcome Variable']\n",
    "\n",
    "# Splitting data into 80% train and 20% test\n",
    "X_train, X_test, y_train, y_test = train_test_split(X, y, test_size=0.2, random_state=42)\n"
   ]
  },
  {
   "cell_type": "code",
   "execution_count": 51,
   "id": "8f349335-ee80-4179-bd81-b257b913a47b",
   "metadata": {},
   "outputs": [
    {
     "name": "stdout",
     "output_type": "stream",
     "text": [
      "Model Accuracy: 0.80\n"
     ]
    },
    {
     "data": {
      "text/plain": [
       "['healthcare_model.joblib']"
      ]
     },
     "execution_count": 51,
     "metadata": {},
     "output_type": "execute_result"
    }
   ],
   "source": [
    "from sklearn.ensemble import RandomForestClassifier\n",
    "from sklearn.metrics import accuracy_score\n",
    "import joblib\n",
    "\n",
    "# Train the model\n",
    "model = RandomForestClassifier(n_estimators=100, random_state=42)\n",
    "model.fit(X_train, y_train)\n",
    "\n",
    "# Test the model\n",
    "y_pred = model.predict(X_test)\n",
    "accuracy = accuracy_score(y_test, y_pred)\n",
    "print(f\"Model Accuracy: {accuracy:.2f}\")\n",
    "\n",
    "# Save model for later use\n",
    "joblib.dump(model, \"healthcare_model.joblib\")\n"
   ]
  },
  {
   "cell_type": "code",
   "execution_count": 3,
   "id": "c9ecc8d2-513c-41ac-9af4-e93b06ce80ff",
   "metadata": {},
   "outputs": [
    {
     "name": "stdout",
     "output_type": "stream",
     "text": [
      "✅ Label Encoder trained & saved successfully!\n",
      "Encoded Classes: ['Acne' 'Allergic Rhinitis' \"Alzheimer's Disease\" 'Anemia'\n",
      " 'Anxiety Disorders' 'Appendicitis' 'Asthma' 'Atherosclerosis'\n",
      " 'Autism Spectrum Disorder (ASD)' 'Bipolar Disorder' 'Bladder Cancer'\n",
      " 'Brain Tumor' 'Breast Cancer' 'Bronchitis' 'Cataracts' 'Cerebral Palsy'\n",
      " 'Chickenpox' 'Cholecystitis' 'Cholera' 'Chronic Kidney Disease'\n",
      " 'Chronic Obstructive Pulmonary Disease (COPD)'\n",
      " 'Chronic Obstructive Pulmonary...' 'Cirrhosis' 'Colorectal Cancer'\n",
      " 'Common Cold' 'Conjunctivitis (Pink Eye)' 'Coronary Artery Disease'\n",
      " \"Crohn's Disease\" 'Cystic Fibrosis' 'Dementia' 'Dengue Fever'\n",
      " 'Depression' 'Diabetes' 'Diverticulitis' 'Down Syndrome'\n",
      " 'Eating Disorders (Anorexia,...' 'Ebola Virus' 'Eczema' 'Endometriosis'\n",
      " 'Epilepsy' 'Esophageal Cancer' 'Fibromyalgia' 'Gastroenteritis'\n",
      " 'Glaucoma' 'Gout' 'HIV/AIDS' 'Hemophilia' 'Hemorrhoids' 'Hepatitis'\n",
      " 'Hepatitis B' 'Hyperglycemia' 'Hypertension' 'Hypertensive Heart Disease'\n",
      " 'Hyperthyroidism' 'Hypoglycemia' 'Hypothyroidism' 'Influenza'\n",
      " 'Kidney Cancer' 'Kidney Disease' 'Klinefelter Syndrome' 'Liver Cancer'\n",
      " 'Liver Disease' 'Lung Cancer' 'Lyme Disease' 'Lymphoma' 'Malaria'\n",
      " 'Marfan Syndrome' 'Measles' 'Melanoma' 'Migraine' 'Multiple Sclerosis'\n",
      " 'Mumps' 'Muscular Dystrophy' 'Myocardial Infarction (Heart...'\n",
      " 'Obsessive-Compulsive Disorde...' 'Osteoarthritis' 'Osteomyelitis'\n",
      " 'Osteoporosis' 'Otitis Media (Ear Infection)' 'Ovarian Cancer'\n",
      " 'Pancreatic Cancer' 'Pancreatitis' \"Parkinson's Disease\"\n",
      " 'Pneumocystis Pneumonia (PCP)' 'Pneumonia' 'Pneumothorax' 'Polio'\n",
      " 'Polycystic Ovary Syndrome (PCOS)' 'Prader-Willi Syndrome'\n",
      " 'Prostate Cancer' 'Psoriasis' 'Rabies' 'Rheumatoid Arthritis' 'Rubella'\n",
      " 'Schizophrenia' 'Scoliosis' 'Sepsis' 'Sickle Cell Anemia' 'Sinusitis'\n",
      " 'Sleep Apnea' 'Spina Bifida' 'Stroke' 'Systemic Lupus Erythematosus...'\n",
      " 'Testicular Cancer' 'Tetanus' 'Thyroid Cancer' 'Tonsillitis'\n",
      " 'Tourette Syndrome' 'Tuberculosis' 'Turner Syndrome' 'Typhoid Fever'\n",
      " 'Ulcerative Colitis' 'Urinary Tract Infection'\n",
      " 'Urinary Tract Infection (UTI)' 'Williams Syndrome' 'Zika Virus']\n",
      "Disease\n",
      "Asthma                            23\n",
      "Stroke                            16\n",
      "Osteoporosis                      14\n",
      "Hypertension                      10\n",
      "Diabetes                          10\n",
      "                                  ..\n",
      "Autism Spectrum Disorder (ASD)     1\n",
      "Hypoglycemia                       1\n",
      "Fibromyalgia                       1\n",
      "Eating Disorders (Anorexia,...     1\n",
      "Williams Syndrome                  1\n",
      "Name: count, Length: 116, dtype: int64\n"
     ]
    }
   ],
   "source": [
    "import pandas as pd\n",
    "import joblib\n",
    "from sklearn.preprocessing import LabelEncoder\n",
    "\n",
    "# Load your dataset\n",
    "df = pd.read_csv(r\"D:\\Lean Startup Project\\Dataset\\Disease_symptom_and_patient_profile_dataset.csv\")\n",
    "\n",
    "# Ensure 'Disease' column exists\n",
    "if \"Disease\" not in df.columns:\n",
    "    raise ValueError(\"⚠️ Error: Column 'Disease' not found in dataset!\")\n",
    "\n",
    "# Encode the 'Disease' column\n",
    "label_encoder = LabelEncoder()\n",
    "df[\"Disease_Encoded\"] = label_encoder.fit_transform(df[\"Disease\"])\n",
    "\n",
    "# Save the trained LabelEncoder for later use\n",
    "joblib.dump(label_encoder, \"label_encoder.joblib\")\n",
    "\n",
    "print(\"✅ Label Encoder trained & saved successfully!\")\n",
    "print(f\"Encoded Classes: {label_encoder.classes_}\")\n",
    "\n",
    "print(df[\"Disease\"].value_counts())"
   ]
  },
  {
   "cell_type": "code",
   "execution_count": null,
   "id": "e1b20914-833f-4cee-ab11-b532b17b5beb",
   "metadata": {},
   "outputs": [],
   "source": [
    "#Percentage Distribution of Classes"
   ]
  },
  {
   "cell_type": "code",
   "execution_count": 128,
   "id": "f9827aad-faa0-47a6-a777-695fc6315385",
   "metadata": {},
   "outputs": [
    {
     "data": {
      "text/plain": [
       "Disease\n",
       "Asthma                            6.590258\n",
       "Stroke                            4.584527\n",
       "Osteoporosis                      4.011461\n",
       "Hypertension                      2.865330\n",
       "Diabetes                          2.865330\n",
       "                                    ...   \n",
       "Autism Spectrum Disorder (ASD)    0.286533\n",
       "Hypoglycemia                      0.286533\n",
       "Fibromyalgia                      0.286533\n",
       "Eating Disorders (Anorexia,...    0.286533\n",
       "Williams Syndrome                 0.286533\n",
       "Name: proportion, Length: 116, dtype: float64"
      ]
     },
     "execution_count": 128,
     "metadata": {},
     "output_type": "execute_result"
    }
   ],
   "source": [
    "df[\"Disease\"].value_counts(normalize=True) * 100  # Percentage distribution"
   ]
  },
  {
   "cell_type": "code",
   "execution_count": 130,
   "id": "7bd6bc60-9ea3-4761-91f8-73ee8ad3e45b",
   "metadata": {},
   "outputs": [
    {
     "name": "stdout",
     "output_type": "stream",
     "text": [
      "Categorical Columns: Index(['Disease', 'Fever', 'Cough', 'Fatigue', 'Difficulty Breathing',\n",
      "       'Outcome Variable'],\n",
      "      dtype='object')\n"
     ]
    }
   ],
   "source": [
    "categorical_cols = df.select_dtypes(include=['object']).columns\n",
    "print(\"Categorical Columns:\", categorical_cols)\n"
   ]
  },
  {
   "cell_type": "code",
   "execution_count": 132,
   "id": "e8adb4e4-14a6-4438-b6e3-c32ab7fd5937",
   "metadata": {},
   "outputs": [
    {
     "name": "stdout",
     "output_type": "stream",
     "text": [
      "Model expects features: ['Fever' 'Cough' 'Fatigue' 'Difficulty Breathing' 'Age' 'Gender'\n",
      " 'Blood Pressure' 'Cholesterol Level']\n"
     ]
    }
   ],
   "source": [
    "print(\"Model expects features:\", model.feature_names_in_)"
   ]
  },
  {
   "cell_type": "code",
   "execution_count": 134,
   "id": "311377fe-769f-47b5-8b0f-1a850a959fba",
   "metadata": {},
   "outputs": [],
   "source": [
    "#CREATION OF SYNTHETIC DATA"
   ]
  },
  {
   "cell_type": "code",
   "execution_count": 136,
   "id": "ff1677e5-ac70-4dcf-b4be-cb14ef98ccc2",
   "metadata": {},
   "outputs": [],
   "source": [
    "from sklearn.preprocessing import LabelEncoder\n",
    "\n",
    "# Encode categorical features if necessary\n",
    "categorical_cols = df.select_dtypes(include=['object']).columns\n",
    "\n",
    "encoder = LabelEncoder()\n",
    "for col in categorical_cols:\n",
    "    df[col] = encoder.fit_transform(df[col])\n"
   ]
  },
  {
   "cell_type": "code",
   "execution_count": 138,
   "id": "44d91da8-9660-4bc4-afca-b6028cec6db9",
   "metadata": {},
   "outputs": [
    {
     "name": "stdout",
     "output_type": "stream",
     "text": [
      "Disease\n",
      "6      23\n",
      "101    16\n",
      "77     14\n",
      "51     10\n",
      "32     10\n",
      "       ..\n",
      "8       1\n",
      "54      1\n",
      "41      1\n",
      "35      1\n",
      "114     1\n",
      "Name: count, Length: 116, dtype: int64\n"
     ]
    }
   ],
   "source": [
    "# Get class counts\n",
    "class_counts = df[\"Disease\"].value_counts()\n",
    "print(class_counts)\n",
    "\n",
    "# Filter out classes with only 1 sample\n",
    "min_samples_threshold = 2  # Minimum required samples\n",
    "valid_classes = class_counts[class_counts >= min_samples_threshold].index\n",
    "df_filtered = df[df[\"Disease\"].isin(valid_classes)]\n"
   ]
  },
  {
   "cell_type": "code",
   "execution_count": 51,
   "id": "08095435-b67e-43f5-a198-7017409524b0",
   "metadata": {},
   "outputs": [
    {
     "name": "stdout",
     "output_type": "stream",
     "text": [
      "Disease\n",
      "56     23\n",
      "109    23\n",
      "58     23\n",
      "75     23\n",
      "59     23\n",
      "91     23\n",
      "16     23\n",
      "26     23\n",
      "46     23\n",
      "108    23\n",
      "62     23\n",
      "55     23\n",
      "27     23\n",
      "115    23\n",
      "61     23\n",
      "104    23\n",
      "18     23\n",
      "36     23\n",
      "63     23\n",
      "45     23\n",
      "82     23\n",
      "110    23\n",
      "67     23\n",
      "49     23\n",
      "2      23\n",
      "20     23\n",
      "65     23\n",
      "93     23\n",
      "24     23\n",
      "101    23\n",
      "37     23\n",
      "6      23\n",
      "53     23\n",
      "1      23\n",
      "4      23\n",
      "32     23\n",
      "42     23\n",
      "81     23\n",
      "92     23\n",
      "31     23\n",
      "60     23\n",
      "112    23\n",
      "90     23\n",
      "30     23\n",
      "48     23\n",
      "57     23\n",
      "69     23\n",
      "111    23\n",
      "13     23\n",
      "70     23\n",
      "113    23\n",
      "77     23\n",
      "84     23\n",
      "51     23\n",
      "71     23\n",
      "Name: count, dtype: int64\n"
     ]
    }
   ],
   "source": [
    "from imblearn.over_sampling import SMOTE\n",
    "import pandas as pd\n",
    "\n",
    "# Separate features and target\n",
    "X = df_filtered.drop(columns=[\"Disease\"])\n",
    "y = df_filtered[\"Disease\"]\n",
    "\n",
    "# Apply SMOTE\n",
    "smote = SMOTE(sampling_strategy='auto', k_neighbors=1, random_state=42)\n",
    "X_resampled, y_resampled = smote.fit_resample(X, y)\n",
    "\n",
    "# Convert back to DataFrame\n",
    "df_balanced = pd.concat([pd.DataFrame(X_resampled, columns=X.columns), pd.DataFrame(y_resampled, columns=[\"Disease\"])], axis=1)\n",
    "\n",
    "# Check new class distribution\n",
    "print(df_balanced[\"Disease\"].value_counts())\n"
   ]
  },
  {
   "cell_type": "code",
   "execution_count": 140,
   "id": "e700f0c2-858a-468c-9652-385b1d82bce3",
   "metadata": {},
   "outputs": [
    {
     "name": "stdout",
     "output_type": "stream",
     "text": [
      "Disease\n",
      "56     23\n",
      "61     23\n",
      "58     23\n",
      "75     23\n",
      "59     23\n",
      "91     23\n",
      "16     23\n",
      "26     23\n",
      "46     23\n",
      "108    23\n",
      "62     23\n",
      "55     23\n",
      "27     23\n",
      "109    23\n",
      "115    23\n",
      "104    23\n",
      "18     23\n",
      "36     23\n",
      "63     23\n",
      "45     23\n",
      "82     23\n",
      "110    23\n",
      "67     23\n",
      "49     23\n",
      "2      23\n",
      "20     23\n",
      "71     23\n",
      "24     23\n",
      "65     23\n",
      "93     23\n",
      "101    23\n",
      "37     23\n",
      "6      23\n",
      "53     23\n",
      "1      23\n",
      "4      23\n",
      "32     23\n",
      "42     23\n",
      "81     23\n",
      "92     23\n",
      "31     23\n",
      "90     23\n",
      "60     23\n",
      "112    23\n",
      "30     23\n",
      "48     23\n",
      "57     23\n",
      "69     23\n",
      "111    23\n",
      "13     23\n",
      "70     23\n",
      "113    23\n",
      "77     23\n",
      "84     23\n",
      "51     23\n",
      "38      1\n",
      "12      1\n",
      "25      1\n",
      "97      1\n",
      "Name: count, dtype: int64\n"
     ]
    }
   ],
   "source": [
    "# Get rare classes (which were removed)\n",
    "rare_classes = class_counts[class_counts < min_samples_threshold].index\n",
    "df_rare = df[df[\"Disease\"].isin(rare_classes)]\n",
    "\n",
    "# Duplicate rare class data to match the minimum count\n",
    "df_rare_duplicated = df_rare.sample(n=min_samples_threshold, replace=True)\n",
    "\n",
    "# Add back to the balanced dataset\n",
    "df_final = pd.concat([df_balanced, df_rare_duplicated])\n",
    "\n",
    "# Final dataset is now fully balanced\n",
    "print(df_final[\"Disease\"].value_counts())\n"
   ]
  },
  {
   "cell_type": "code",
   "execution_count": 142,
   "id": "17bfc35e-cef7-4e23-8495-c05dac14dfd7",
   "metadata": {},
   "outputs": [],
   "source": [
    "df_final.to_csv(\"balanced_dataset.csv\", index=False)"
   ]
  },
  {
   "cell_type": "code",
   "execution_count": null,
   "id": "08b63ba1-67a7-40a1-9c90-ab0b6b76c727",
   "metadata": {},
   "outputs": [],
   "source": [
    "#Analysing the Synthetic Data"
   ]
  },
  {
   "cell_type": "code",
   "execution_count": 146,
   "id": "6b6b9786-c64a-4a5c-9ff9-6c29d61dee96",
   "metadata": {},
   "outputs": [
    {
     "name": "stdout",
     "output_type": "stream",
     "text": [
      "   level_0  index  Fever  Cough  Fatigue  Difficulty Breathing  Age  Gender  \\\n",
      "0      0.0    0.0      1      0        1                     1   19       0   \n",
      "1      1.0    1.0      0      1        1                     0   25       0   \n",
      "2      2.0    2.0      0      1        1                     0   25       0   \n",
      "3      3.0    3.0      1      1        0                     1   25       1   \n",
      "4      4.0    4.0      1      1        0                     1   25       1   \n",
      "\n",
      "   Blood Pressure  Cholesterol Level  Outcome Variable  Disease  \n",
      "0               1                  2                 1       56  \n",
      "1               2                  2                 0       24  \n",
      "2               2                  2                 0       37  \n",
      "3               2                  2                 1        6  \n",
      "4               2                  2                 1        6  \n"
     ]
    }
   ],
   "source": [
    "import pandas as pd\n",
    "\n",
    "df_balanced = pd.read_csv(\"balanced_dataset.csv\")\n",
    "print(df_balanced.head())  # Check if data is loaded correctly\n"
   ]
  },
  {
   "cell_type": "code",
   "execution_count": 148,
   "id": "380224b4-7519-4774-8526-b29002a24935",
   "metadata": {},
   "outputs": [],
   "source": [
    "df_balanced = df_balanced.drop(columns=[\"level_0\", \"index\"], errors='ignore')\n"
   ]
  },
  {
   "cell_type": "code",
   "execution_count": 150,
   "id": "3a6a386e-8b8d-460b-8857-52b03ddcce36",
   "metadata": {},
   "outputs": [
    {
     "name": "stdout",
     "output_type": "stream",
     "text": [
      "   Fever  Cough  Fatigue  Difficulty Breathing  Age  Gender  Blood Pressure  \\\n",
      "0      1      0        1                     1   19       0               1   \n",
      "1      0      1        1                     0   25       0               2   \n",
      "2      0      1        1                     0   25       0               2   \n",
      "3      1      1        0                     1   25       1               2   \n",
      "4      1      1        0                     1   25       1               2   \n",
      "\n",
      "   Cholesterol Level  Outcome Variable  Disease  \n",
      "0                  2                 1       56  \n",
      "1                  2                 0       24  \n",
      "2                  2                 0       37  \n",
      "3                  2                 1        6  \n",
      "4                  2                 1        6  \n"
     ]
    }
   ],
   "source": [
    "print(df_balanced.head())\n"
   ]
  },
  {
   "cell_type": "code",
   "execution_count": 168,
   "id": "49e79c30-cfc5-49fc-938e-45746901f172",
   "metadata": {},
   "outputs": [],
   "source": [
    "df_balanced.to_csv(\"cleaned_balanced_dataset.csv\", index=False)\n"
   ]
  },
  {
   "cell_type": "code",
   "execution_count": null,
   "id": "08536271-3743-4de8-a9bf-c79c41ceb153",
   "metadata": {},
   "outputs": [],
   "source": [
    "#Balancing the Unbalanced Data"
   ]
  },
  {
   "cell_type": "code",
   "execution_count": 156,
   "id": "99911960-6e6d-4f1d-898e-61b2f0ad59d7",
   "metadata": {},
   "outputs": [],
   "source": [
    "df_balanced = df_balanced[df_balanced[\"Disease\"].map(df_balanced[\"Disease\"].value_counts()) > 1]\n"
   ]
  },
  {
   "cell_type": "code",
   "execution_count": 158,
   "id": "5a29b0db-8923-4c7e-87f5-20afbe2b863d",
   "metadata": {},
   "outputs": [
    {
     "name": "stdout",
     "output_type": "stream",
     "text": [
      "Disease\n",
      "56     23\n",
      "109    23\n",
      "58     23\n",
      "75     23\n",
      "59     23\n",
      "91     23\n",
      "16     23\n",
      "26     23\n",
      "46     23\n",
      "108    23\n",
      "62     23\n",
      "55     23\n",
      "27     23\n",
      "115    23\n",
      "61     23\n",
      "104    23\n",
      "18     23\n",
      "36     23\n",
      "63     23\n",
      "45     23\n",
      "82     23\n",
      "110    23\n",
      "67     23\n",
      "49     23\n",
      "2      23\n",
      "20     23\n",
      "65     23\n",
      "93     23\n",
      "24     23\n",
      "101    23\n",
      "37     23\n",
      "6      23\n",
      "53     23\n",
      "1      23\n",
      "4      23\n",
      "32     23\n",
      "42     23\n",
      "81     23\n",
      "92     23\n",
      "31     23\n",
      "60     23\n",
      "112    23\n",
      "90     23\n",
      "30     23\n",
      "48     23\n",
      "57     23\n",
      "69     23\n",
      "111    23\n",
      "13     23\n",
      "70     23\n",
      "113    23\n",
      "77     23\n",
      "84     23\n",
      "51     23\n",
      "71     23\n",
      "Name: count, dtype: int64\n"
     ]
    }
   ],
   "source": [
    "print(df_balanced[\"Disease\"].value_counts())\n"
   ]
  },
  {
   "cell_type": "code",
   "execution_count": 160,
   "id": "0c1ba7e6-c7c1-4da7-959d-14e658ad14c6",
   "metadata": {},
   "outputs": [
    {
     "name": "stdout",
     "output_type": "stream",
     "text": [
      "Disease\n",
      "93     19\n",
      "16     19\n",
      "65     19\n",
      "18     19\n",
      "48     19\n",
      "31     19\n",
      "104    19\n",
      "109    19\n",
      "63     19\n",
      "45     19\n",
      "13     19\n",
      "112    19\n",
      "67     19\n",
      "69     19\n",
      "84     19\n",
      "6      19\n",
      "58     19\n",
      "24     19\n",
      "32     19\n",
      "101    19\n",
      "59     19\n",
      "91     19\n",
      "26     18\n",
      "27     18\n",
      "49     18\n",
      "82     18\n",
      "4      18\n",
      "113    18\n",
      "46     18\n",
      "60     18\n",
      "53     18\n",
      "111    18\n",
      "2      18\n",
      "51     18\n",
      "108    18\n",
      "81     18\n",
      "37     18\n",
      "61     18\n",
      "110    18\n",
      "20     18\n",
      "75     18\n",
      "30     18\n",
      "71     18\n",
      "36     18\n",
      "1      18\n",
      "92     18\n",
      "115    18\n",
      "57     18\n",
      "90     18\n",
      "42     18\n",
      "77     18\n",
      "55     18\n",
      "56     18\n",
      "62     18\n",
      "70     18\n",
      "Name: count, dtype: int64\n"
     ]
    }
   ],
   "source": [
    "from sklearn.model_selection import train_test_split\n",
    "\n",
    "X = df_balanced.drop(columns=[\"Disease\"])  # Features\n",
    "y = df_balanced[\"Disease\"]  # Target variable\n",
    "\n",
    "X_train, X_test, y_train, y_test = train_test_split(X, y, test_size=0.2, random_state=42, stratify=y)\n",
    "\n",
    "print(y_train.value_counts())  # Verify balanced class distribution\n"
   ]
  },
  {
   "cell_type": "code",
   "execution_count": null,
   "id": "1cadf00a-05ab-470a-806b-108f70e7d683",
   "metadata": {},
   "outputs": [],
   "source": [
    "#Evaluating the Model's Performance"
   ]
  },
  {
   "cell_type": "code",
   "execution_count": 162,
   "id": "a4cdbb53-7b59-4dc7-bb99-10afbd72ce89",
   "metadata": {},
   "outputs": [
    {
     "name": "stdout",
     "output_type": "stream",
     "text": [
      "              precision    recall  f1-score   support\n",
      "\n",
      "           1       0.80      0.80      0.80         5\n",
      "           2       0.62      1.00      0.77         5\n",
      "           4       0.75      0.60      0.67         5\n",
      "           6       0.40      0.50      0.44         4\n",
      "          13       0.50      0.50      0.50         4\n",
      "          16       1.00      1.00      1.00         4\n",
      "          18       1.00      1.00      1.00         4\n",
      "          20       1.00      1.00      1.00         5\n",
      "          24       1.00      0.50      0.67         4\n",
      "          26       1.00      1.00      1.00         5\n",
      "          27       0.80      0.80      0.80         5\n",
      "          30       1.00      1.00      1.00         5\n",
      "          31       1.00      0.50      0.67         4\n",
      "          32       1.00      0.50      0.67         4\n",
      "          36       1.00      1.00      1.00         5\n",
      "          37       0.60      0.60      0.60         5\n",
      "          42       0.75      0.60      0.67         5\n",
      "          45       1.00      1.00      1.00         4\n",
      "          46       0.75      0.60      0.67         5\n",
      "          48       1.00      1.00      1.00         4\n",
      "          49       1.00      1.00      1.00         5\n",
      "          51       0.25      0.20      0.22         5\n",
      "          53       1.00      0.60      0.75         5\n",
      "          55       1.00      1.00      1.00         5\n",
      "          56       1.00      0.80      0.89         5\n",
      "          57       0.33      0.20      0.25         5\n",
      "          58       1.00      0.75      0.86         4\n",
      "          59       0.60      0.75      0.67         4\n",
      "          60       0.50      1.00      0.67         5\n",
      "          61       1.00      0.60      0.75         5\n",
      "          62       1.00      0.80      0.89         5\n",
      "          63       1.00      1.00      1.00         4\n",
      "          65       0.80      1.00      0.89         4\n",
      "          67       1.00      1.00      1.00         4\n",
      "          69       0.00      0.00      0.00         4\n",
      "          70       1.00      1.00      1.00         5\n",
      "          71       1.00      1.00      1.00         5\n",
      "          75       0.57      0.80      0.67         5\n",
      "          77       0.50      0.60      0.55         5\n",
      "          81       0.60      0.60      0.60         5\n",
      "          82       0.62      1.00      0.77         5\n",
      "          84       0.75      0.75      0.75         4\n",
      "          90       0.57      0.80      0.67         5\n",
      "          91       1.00      1.00      1.00         4\n",
      "          92       0.75      0.60      0.67         5\n",
      "          93       0.80      1.00      0.89         4\n",
      "         101       0.50      0.25      0.33         4\n",
      "         104       0.67      1.00      0.80         4\n",
      "         108       1.00      1.00      1.00         5\n",
      "         109       0.67      1.00      0.80         4\n",
      "         110       1.00      1.00      1.00         5\n",
      "         111       0.50      0.80      0.62         5\n",
      "         112       1.00      1.00      1.00         4\n",
      "         113       0.75      0.60      0.67         5\n",
      "         115       1.00      1.00      1.00         5\n",
      "\n",
      "    accuracy                           0.78       253\n",
      "   macro avg       0.79      0.78      0.77       253\n",
      "weighted avg       0.79      0.78      0.77       253\n",
      "\n"
     ]
    },
    {
     "name": "stderr",
     "output_type": "stream",
     "text": [
      "C:\\Users\\Harikar\\anaconda3\\Lib\\site-packages\\sklearn\\metrics\\_classification.py:1509: UndefinedMetricWarning: Precision is ill-defined and being set to 0.0 in labels with no predicted samples. Use `zero_division` parameter to control this behavior.\n",
      "  _warn_prf(average, modifier, f\"{metric.capitalize()} is\", len(result))\n",
      "C:\\Users\\Harikar\\anaconda3\\Lib\\site-packages\\sklearn\\metrics\\_classification.py:1509: UndefinedMetricWarning: Precision is ill-defined and being set to 0.0 in labels with no predicted samples. Use `zero_division` parameter to control this behavior.\n",
      "  _warn_prf(average, modifier, f\"{metric.capitalize()} is\", len(result))\n",
      "C:\\Users\\Harikar\\anaconda3\\Lib\\site-packages\\sklearn\\metrics\\_classification.py:1509: UndefinedMetricWarning: Precision is ill-defined and being set to 0.0 in labels with no predicted samples. Use `zero_division` parameter to control this behavior.\n",
      "  _warn_prf(average, modifier, f\"{metric.capitalize()} is\", len(result))\n"
     ]
    }
   ],
   "source": [
    "from sklearn.ensemble import RandomForestClassifier\n",
    "from sklearn.metrics import classification_report\n",
    "\n",
    "# Train the model\n",
    "model = RandomForestClassifier(n_estimators=100, random_state=42)\n",
    "model.fit(X_train, y_train)\n",
    "\n",
    "# Predict on the test set\n",
    "y_pred = model.predict(X_test)\n",
    "\n",
    "# Evaluate model performance\n",
    "print(classification_report(y_test, y_pred))\n"
   ]
  },
  {
   "cell_type": "code",
   "execution_count": 164,
   "id": "cc30d143-f7da-4199-a54d-c729a9d11a61",
   "metadata": {},
   "outputs": [
    {
     "data": {
      "text/plain": [
       "['disease_prediction_model.pkl']"
      ]
     },
     "execution_count": 164,
     "metadata": {},
     "output_type": "execute_result"
    }
   ],
   "source": [
    "import joblib\n",
    "\n",
    "joblib.dump(model, \"disease_prediction_model.pkl\")  # Save model\n"
   ]
  },
  {
   "cell_type": "code",
   "execution_count": null,
   "id": "331e2769-a4d2-4b5c-8e33-b59a9c68bcb3",
   "metadata": {},
   "outputs": [],
   "source": [
    "#Manual Checking of Prediction result"
   ]
  },
  {
   "cell_type": "code",
   "execution_count": 172,
   "id": "eaf031e0-5476-4dbb-af37-4741ba9babec",
   "metadata": {},
   "outputs": [
    {
     "name": "stdout",
     "output_type": "stream",
     "text": [
      "Predicted Disease: 42\n"
     ]
    },
    {
     "name": "stderr",
     "output_type": "stream",
     "text": [
      "C:\\Users\\Harikar\\anaconda3\\Lib\\site-packages\\sklearn\\base.py:493: UserWarning: X does not have valid feature names, but RandomForestClassifier was fitted with feature names\n",
      "  warnings.warn(\n"
     ]
    }
   ],
   "source": [
    "model = joblib.load(\"disease_prediction_model.pkl\")  # Load model\n",
    "\n",
    "# Example input (ensure it's in the same format as X_train)\n",
    "new_patient_data = [[0, 1, 0, 0, 29, 0, 2, 2, 0]]  # Replace with actual values\n",
    "\n",
    "prediction = model.predict(new_patient_data)\n",
    "print(\"Predicted Disease:\", prediction[0])\n"
   ]
  },
  {
   "cell_type": "code",
   "execution_count": null,
   "id": "62ff2fa4-1119-4ee4-bfa3-d4a1850da212",
   "metadata": {},
   "outputs": [],
   "source": [
    "print(f\"Predicted Disease: {disease_name}\")  # Check predicted disease\n",
    "print(df[\"Disease\"].unique())  # Check available disease names in dataset\n"
   ]
  },
  {
   "cell_type": "code",
   "execution_count": 3,
   "id": "89603b29-12da-465e-8f52-58ef802d5b8b",
   "metadata": {},
   "outputs": [
    {
     "name": "stdout",
     "output_type": "stream",
     "text": [
      "Disease Label Mapping: {'Acne': 0, 'Allergic Rhinitis': 1, \"Alzheimer's Disease\": 2, 'Anemia': 3, 'Anxiety Disorders': 4, 'Appendicitis': 5, 'Asthma': 6, 'Atherosclerosis': 7, 'Autism Spectrum Disorder (ASD)': 8, 'Bipolar Disorder': 9, 'Bladder Cancer': 10, 'Brain Tumor': 11, 'Breast Cancer': 12, 'Bronchitis': 13, 'Cataracts': 14, 'Cerebral Palsy': 15, 'Chickenpox': 16, 'Cholecystitis': 17, 'Cholera': 18, 'Chronic Kidney Disease': 19, 'Chronic Obstructive Pulmonary Disease (COPD)': 20, 'Chronic Obstructive Pulmonary...': 21, 'Cirrhosis': 22, 'Colorectal Cancer': 23, 'Common Cold': 24, 'Conjunctivitis (Pink Eye)': 25, 'Coronary Artery Disease': 26, \"Crohn's Disease\": 27, 'Cystic Fibrosis': 28, 'Dementia': 29, 'Dengue Fever': 30, 'Depression': 31, 'Diabetes': 32, 'Diverticulitis': 33, 'Down Syndrome': 34, 'Eating Disorders (Anorexia,...': 35, 'Ebola Virus': 36, 'Eczema': 37, 'Endometriosis': 38, 'Epilepsy': 39, 'Esophageal Cancer': 40, 'Fibromyalgia': 41, 'Gastroenteritis': 42, 'Glaucoma': 43, 'Gout': 44, 'HIV/AIDS': 45, 'Hemophilia': 46, 'Hemorrhoids': 47, 'Hepatitis': 48, 'Hepatitis B': 49, 'Hyperglycemia': 50, 'Hypertension': 51, 'Hypertensive Heart Disease': 52, 'Hyperthyroidism': 53, 'Hypoglycemia': 54, 'Hypothyroidism': 55, 'Influenza': 56, 'Kidney Cancer': 57, 'Kidney Disease': 58, 'Klinefelter Syndrome': 59, 'Liver Cancer': 60, 'Liver Disease': 61, 'Lung Cancer': 62, 'Lyme Disease': 63, 'Lymphoma': 64, 'Malaria': 65, 'Marfan Syndrome': 66, 'Measles': 67, 'Melanoma': 68, 'Migraine': 69, 'Multiple Sclerosis': 70, 'Mumps': 71, 'Muscular Dystrophy': 72, 'Myocardial Infarction (Heart...': 73, 'Obsessive-Compulsive Disorde...': 74, 'Osteoarthritis': 75, 'Osteomyelitis': 76, 'Osteoporosis': 77, 'Otitis Media (Ear Infection)': 78, 'Ovarian Cancer': 79, 'Pancreatic Cancer': 80, 'Pancreatitis': 81, \"Parkinson's Disease\": 82, 'Pneumocystis Pneumonia (PCP)': 83, 'Pneumonia': 84, 'Pneumothorax': 85, 'Polio': 86, 'Polycystic Ovary Syndrome (PCOS)': 87, 'Prader-Willi Syndrome': 88, 'Prostate Cancer': 89, 'Psoriasis': 90, 'Rabies': 91, 'Rheumatoid Arthritis': 92, 'Rubella': 93, 'Schizophrenia': 94, 'Scoliosis': 95, 'Sepsis': 96, 'Sickle Cell Anemia': 97, 'Sinusitis': 98, 'Sleep Apnea': 99, 'Spina Bifida': 100, 'Stroke': 101, 'Systemic Lupus Erythematosus...': 102, 'Testicular Cancer': 103, 'Tetanus': 104, 'Thyroid Cancer': 105, 'Tonsillitis': 106, 'Tourette Syndrome': 107, 'Tuberculosis': 108, 'Turner Syndrome': 109, 'Typhoid Fever': 110, 'Ulcerative Colitis': 111, 'Urinary Tract Infection': 112, 'Urinary Tract Infection (UTI)': 113, 'Williams Syndrome': 114, 'Zika Virus': 115}\n"
     ]
    }
   ],
   "source": [
    "import joblib\n",
    "\n",
    "# Load the old label encoder\n",
    "label_encoder = joblib.load(\"label_encoder.joblib\")\n",
    "\n",
    "# Print the mapping of labels to diseases\n",
    "disease_mapping = dict(zip(label_encoder.classes_, label_encoder.transform(label_encoder.classes_)))\n",
    "print(\"Disease Label Mapping:\", disease_mapping)\n"
   ]
  },
  {
   "cell_type": "code",
   "execution_count": 5,
   "id": "1a37a183-f1b7-4d06-9bd8-004dc2b4a804",
   "metadata": {},
   "outputs": [
    {
     "name": "stdout",
     "output_type": "stream",
     "text": [
      "Disease Mapping Dataset Created Successfully!\n"
     ]
    }
   ],
   "source": [
    "import joblib\n",
    "import pandas as pd\n",
    "\n",
    "# Load the old label encoder\n",
    "label_encoder = joblib.load(\"label_encoder.joblib\")\n",
    "\n",
    "# Create a mapping of Disease Names to Encoded Values\n",
    "disease_mapping = pd.DataFrame({\n",
    "    \"Disease Name\": label_encoder.classes_,\n",
    "    \"Encoded Value\": label_encoder.transform(label_encoder.classes_)\n",
    "})\n",
    "\n",
    "# Save it as a CSV file for reference\n",
    "disease_mapping.to_csv(\"disease_mapping.csv\", index=False)\n",
    "\n",
    "print(\"Disease Mapping Dataset Created Successfully!\")\n"
   ]
  },
  {
   "cell_type": "code",
   "execution_count": null,
   "id": "30021eaa-5043-486e-8390-1e34dc304c06",
   "metadata": {},
   "outputs": [],
   "source": [
    "#Checking for Data Issues"
   ]
  },
  {
   "cell_type": "code",
   "execution_count": 3,
   "id": "0e70b64f-e9d3-43cd-ba50-21043e8b6fef",
   "metadata": {},
   "outputs": [
    {
     "data": {
      "image/png": "[encoded data removed]",
      "text/plain": [
       "<Figure size 640x480 with 2 Axes>"
      ]
     },
     "metadata": {},
     "output_type": "display_data"
    }
   ],
   "source": [
    "import seaborn as sns\n",
    "import matplotlib.pyplot as plt\n",
    "\n",
    "correlation_matrix = df.corr()\n",
    "sns.heatmap(correlation_matrix, annot=True, cmap=\"coolwarm\")\n",
    "plt.show()\n"
   ]
  },
  {
   "cell_type": "code",
   "execution_count": null,
   "id": "5a50a55d-ba78-4e30-a975-fa531158335b",
   "metadata": {},
   "outputs": [],
   "source": [
    "#Building Application"
   ]
  },
  {
   "cell_type": "code",
   "execution_count": 82,
   "id": "54d7dd14-19bf-4852-a583-e541e87655de",
   "metadata": {},
   "outputs": [
    {
     "name": "stdout",
     "output_type": "stream",
     "text": [
      "Requirement already satisfied: flask in c:\\users\\harikar\\anaconda3\\lib\\site-packages (3.0.3)\n",
      "Requirement already satisfied: joblib in c:\\users\\harikar\\anaconda3\\lib\\site-packages (1.4.2)\n",
      "Requirement already satisfied: numpy in c:\\users\\harikar\\anaconda3\\lib\\site-packages (1.26.4)\n",
      "Requirement already satisfied: pandas in c:\\users\\harikar\\anaconda3\\lib\\site-packages (2.2.2)\n",
      "Requirement already satisfied: scikit-learn in c:\\users\\harikar\\anaconda3\\lib\\site-packages (1.4.2)\n",
      "Requirement already satisfied: Werkzeug>=3.0.0 in c:\\users\\harikar\\anaconda3\\lib\\site-packages (from flask) (3.0.3)\n",
      "Requirement already satisfied: Jinja2>=3.1.2 in c:\\users\\harikar\\anaconda3\\lib\\site-packages (from flask) (3.1.4)\n",
      "Requirement already satisfied: itsdangerous>=2.1.2 in c:\\users\\harikar\\anaconda3\\lib\\site-packages (from flask) (2.2.0)\n",
      "Requirement already satisfied: click>=8.1.3 in c:\\users\\harikar\\anaconda3\\lib\\site-packages (from flask) (8.1.7)\n",
      "Requirement already satisfied: blinker>=1.6.2 in c:\\users\\harikar\\anaconda3\\lib\\site-packages (from flask) (1.6.2)\n",
      "Requirement already satisfied: python-dateutil>=2.8.2 in c:\\users\\harikar\\anaconda3\\lib\\site-packages (from pandas) (2.9.0.post0)\n",
      "Requirement already satisfied: pytz>=2020.1 in c:\\users\\harikar\\anaconda3\\lib\\site-packages (from pandas) (2024.1)\n",
      "Requirement already satisfied: tzdata>=2022.7 in c:\\users\\harikar\\anaconda3\\lib\\site-packages (from pandas) (2023.3)\n",
      "Requirement already satisfied: scipy>=1.6.0 in c:\\users\\harikar\\anaconda3\\lib\\site-packages (from scikit-learn) (1.13.1)\n",
      "Requirement already satisfied: threadpoolctl>=2.0.0 in c:\\users\\harikar\\anaconda3\\lib\\site-packages (from scikit-learn) (2.2.0)\n",
      "Requirement already satisfied: colorama in c:\\users\\harikar\\anaconda3\\lib\\site-packages (from click>=8.1.3->flask) (0.4.6)\n",
      "Requirement already satisfied: MarkupSafe>=2.0 in c:\\users\\harikar\\anaconda3\\lib\\site-packages (from Jinja2>=3.1.2->flask) (2.1.3)\n",
      "Requirement already satisfied: six>=1.5 in c:\\users\\harikar\\anaconda3\\lib\\site-packages (from python-dateutil>=2.8.2->pandas) (1.16.0)\n",
      "Note: you may need to restart the kernel to use updated packages.\n"
     ]
    }
   ],
   "source": [
    "pip install flask joblib numpy pandas scikit-learn"
   ]
  },
  {
   "cell_type": "code",
   "execution_count": null,
   "id": "05672ca6-b134-4a32-b4ca-13ca1fe3218c",
   "metadata": {},
   "outputs": [
    {
     "name": "stdout",
     "output_type": "stream",
     "text": [
      " * Serving Flask app '__main__'\n",
      " * Debug mode: on\n"
     ]
    },
    {
     "name": "stderr",
     "output_type": "stream",
     "text": [
      "WARNING: This is a development server. Do not use it in a production deployment. Use a production WSGI server instead.\n",
      " * Running on http://127.0.0.1:5002\n",
      "Press CTRL+C to quit\n",
      "127.0.0.1 - - [31/Mar/2025 01:40:42] \"GET / HTTP/1.1\" 200 -\n",
      "C:\\Users\\Harikar\\anaconda3\\Lib\\site-packages\\sklearn\\base.py:493: UserWarning: X does not have valid feature names, but RandomForestClassifier was fitted with feature names\n",
      "  warnings.warn(\n",
      "127.0.0.1 - - [31/Mar/2025 01:40:53] \"POST /predict HTTP/1.1\" 200 -\n"
     ]
    },
    {
     "name": "stdout",
     "output_type": "stream",
     "text": [
      "Predicted Disease from Model: Migraine (Encoded as 69)\n",
      "Available Encoded Diseases in Dataset: [ 56  24  37   6  53   1   4  32  42  81  92  31  60 101 112  30  48  57\n",
      "  69 111  13  70 113  77  84  51  90  93  61  65  58  75  59  91  16  26\n",
      "  46 108  62  55  27 109 115 104  18  36  63  45  82 110  67  49   2  20\n",
      "  71]\n"
     ]
    }
   ],
   "source": [
    "from flask import Flask, render_template, request\n",
    "import joblib\n",
    "import numpy as np\n",
    "import pandas as pd\n",
    "\n",
    "app = Flask(__name__)\n",
    "\n",
    "# Load the trained model and label encoder\n",
    "model = joblib.load(\"disease_prediction_model.pkl\")  # Ensure this file exists\n",
    "label_encoder = joblib.load(\"label_encoder.joblib\")  # Ensure this file exists\n",
    "\n",
    "# Load dataset for mapping diseases and outcome variable\n",
    "df = pd.read_csv(r\"C:\\Users\\Harikar\\LSM_Project\\cleaned_balanced_dataset.csv\")  # Ensure correct path\n",
    "\n",
    "# Initialize consultation token counter\n",
    "token_counter = 0\n",
    "# Average consultation time in minutes\n",
    "average_consultation_time = 10  # Adjust based on actual data\n",
    "\n",
    "@app.route(\"/\")\n",
    "def index():\n",
    "    return render_template(\"index.html\")\n",
    "\n",
    "@app.route(\"/predict\", methods=[\"POST\"])\n",
    "def predict():\n",
    "    global token_counter\n",
    "    try:\n",
    "        # Extract input values from form\n",
    "        features = [\n",
    "            int(request.form.get(\"fever\")),           \n",
    "            int(request.form.get(\"cough\")),           \n",
    "            int(request.form.get(\"fatigue\")),         \n",
    "            int(request.form.get(\"breathing\")),       \n",
    "            int(request.form.get(\"age\")),             \n",
    "            int(request.form.get(\"gender\")),          \n",
    "            int(request.form.get(\"blood_pressure\")),  \n",
    "            int(request.form.get(\"cholesterol\")),     \n",
    "            1  # Modify based on missing feature\n",
    "        ]\n",
    "\n",
    "        # Ensure correct feature count\n",
    "        if len(features) != 9:\n",
    "            raise ValueError(f\"Expected 9 features, but received {len(features)}.\")\n",
    "\n",
    "        # Predict the disease (numerical label)\n",
    "        disease_label = model.predict([features])[0]  \n",
    "        disease_name = label_encoder.inverse_transform([disease_label])[0]  \n",
    "\n",
    "        # Debugging Statements\n",
    "        print(f\"Predicted Disease from Model: {disease_name} (Encoded as {disease_label})\")\n",
    "        print(\"Available Encoded Diseases in Dataset:\", df[\"Disease\"].unique())\n",
    "\n",
    "        # Lookup using numerical labels\n",
    "        matching_rows = df[df[\"Disease\"] == disease_label]\n",
    "        if matching_rows.empty:\n",
    "            return render_template(\"result.html\", result=f\"Error: Encoded disease {disease_label} not found in dataset.\", token=\"N/A\", wait_time=\"N/A\")\n",
    "\n",
    "        # Fetch the outcome variable\n",
    "        outcome = matching_rows[\"Outcome Variable\"].values[0]\n",
    "\n",
    "        # Determine consultation advice\n",
    "        if outcome == 1:\n",
    "            advice = f\"{disease_name} (You should consult a doctor)\"\n",
    "        else:\n",
    "            advice = f\"{disease_name} (No immediate consultation is needed)\"\n",
    "\n",
    "        # Generate consultation token\n",
    "        token_counter += 1\n",
    "        estimated_wait_time = token_counter * average_consultation_time\n",
    "        return render_template(\"result.html\", result=advice, token=f\"#{token_counter}\", wait_time=f\"~{estimated_wait_time} minutes\")\n",
    "\n",
    "    except Exception as e:\n",
    "        return render_template(\"result.html\", result=f\"Error: {str(e)}\", token=\"N/A\", wait_time=\"N/A\")\n",
    "\n",
    "if __name__ == \"__main__\":\n",
    "    app.run(debug=True, port=5002, use_reloader=False)\n"
   ]
  },
  {
   "cell_type": "code",
   "execution_count": null,
   "id": "01e25253-8bea-4eb7-b007-3dd7f53e10eb",
   "metadata": {},
   "outputs": [],
   "source": [
    "from flask import Flask, render_template, request\n",
    "import joblib\n",
    "import numpy as np\n",
    "import pandas as pd\n",
    "\n",
    "app = Flask(__name__)\n",
    "\n",
    "# Load the trained model and label encoder\n",
    "model = joblib.load(\"disease_prediction_model.pkl\")  # Ensure this file exists\n",
    "label_encoder = joblib.load(\"label_encoder.joblib\")  # Ensure this file exists\n",
    "\n",
    "# Load dataset for mapping diseases and outcome variable\n",
    "df = pd.read_csv(r\"C:\\Users\\Harikar\\LSM_Project\\cleaned_balanced_dataset.csv\")  # Ensure correct path\n",
    "\n",
    "# Initialize consultation token counter\n",
    "token_counter = 0\n",
    "\n",
    "@app.route(\"/\")\n",
    "def index():\n",
    "    return render_template(\"index.html\")\n",
    "\n",
    "@app.route(\"/predict\", methods=[\"POST\"])\n",
    "def predict():\n",
    "    global token_counter\n",
    "    try:\n",
    "        # Extract input values from form\n",
    "        features = [\n",
    "            int(request.form.get(\"fever\")),           \n",
    "            int(request.form.get(\"cough\")),           \n",
    "            int(request.form.get(\"fatigue\")),         \n",
    "            int(request.form.get(\"breathing\")),       \n",
    "            int(request.form.get(\"age\")),             \n",
    "            int(request.form.get(\"gender\")),          \n",
    "            int(request.form.get(\"blood_pressure\")),  \n",
    "            int(request.form.get(\"cholesterol\")),     \n",
    "            1  # Modify based on missing feature\n",
    "        ]\n",
    "\n",
    "        # Ensure correct feature count\n",
    "        if len(features) != 9:\n",
    "            raise ValueError(f\"Expected 9 features, but received {len(features)}.\")\n",
    "\n",
    "        # Predict the disease (numerical label)\n",
    "        disease_label = model.predict([features])[0]  \n",
    "        disease_name = label_encoder.inverse_transform([disease_label])[0]  \n",
    "\n",
    "        # Debugging Statements\n",
    "        print(f\"Predicted Disease from Model: {disease_name} (Encoded as {disease_label})\")\n",
    "        print(\"Available Encoded Diseases in Dataset:\", df[\"Disease\"].unique())\n",
    "\n",
    "        # Lookup using numerical labels\n",
    "        matching_rows = df[df[\"Disease\"] == disease_label]\n",
    "        if matching_rows.empty:\n",
    "            return render_template(\"result.html\", result=f\"Error: Encoded disease {disease_label} not found in dataset.\", token=\"N/A\")\n",
    "\n",
    "        # Fetch the outcome variable\n",
    "        outcome = matching_rows[\"Outcome Variable\"].values[0]\n",
    "\n",
    "        # Determine consultation advice\n",
    "        if outcome == 1:\n",
    "            advice = f\"{disease_name} (You should consult a doctor)\"\n",
    "        else:\n",
    "            advice = f\"{disease_name} (No immediate consultation is needed)\"\n",
    "\n",
    "        # Generate consultation token\n",
    "        token_counter += 1\n",
    "        return render_template(\"result.html\", result=advice, token=f\"#{token_counter}\")\n",
    "\n",
    "    except Exception as e:\n",
    "        return render_template(\"result.html\", result=f\"Error: {str(e)}\", token=\"N/A\")\n",
    "\n",
    "if __name__ == \"__main__\":\n",
    "    app.run(debug=True, port=5002, use_reloader=False)\n"
   ]
  }
 ],
 "metadata": {
  "kernelspec": {
   "display_name": "Python 3 (ipykernel)",
   "language": "python",
   "name": "python3"
  },
  "language_info": {
   "codemirror_mode": {
    "name": "ipython",
    "version": 3
   },
   "file_extension": ".py",
   "mimetype": "text/x-python",
   "name": "python",
   "nbconvert_exporter": "python",
   "pygments_lexer": "ipython3",
   "version": "3.12.4"
  }
 },
 "nbformat": 4,
 "nbformat_minor": 5
}
